{
 "cells": [
  {
   "cell_type": "markdown",
   "metadata": {},
   "source": [
    "# 乱数の発生\n",
    "\n",
    "# random\n",
    "- random()　0.0以上1.0未満の浮動小数点数  \n",
    "- uniform(x,y)　xからyまでの浮動小数点数  \n",
    "- randint(x,y)　xからyまでの整数  \n",
    "\n",
    "# np.random\n",
    "### 一様分布\n",
    "- rand()　0.0以上1.0未満の浮動小数点数  \n",
    "引数はテンソルshapeの指定 (a),(a,b) etc  \n",
    "範囲の指定（a以上、b未満）　(b - a) * np.random.rand() + a\n",
    "\n",
    "### 標準正規分布（平均0、分散1）\n",
    "- randn()　平均0、分散1（標準偏差1）  \n",
    "引数はテンソルshapeの指定 (a),(a,b) etc  \n",
    "- normal()　任意の平均、標準偏差  \n",
    "引数は、loc=平均, scale=標準偏差, size=テンソルshapeの指定 None or タプル(a),(a,b) etc  "
   ]
  },
  {
   "cell_type": "code",
   "execution_count": null,
   "metadata": {},
   "outputs": [],
   "source": []
  }
 ],
 "metadata": {
  "kernelspec": {
   "display_name": "Python 3",
   "language": "python",
   "name": "python3"
  },
  "language_info": {
   "codemirror_mode": {
    "name": "ipython",
    "version": 3
   },
   "file_extension": ".py",
   "mimetype": "text/x-python",
   "name": "python",
   "nbconvert_exporter": "python",
   "pygments_lexer": "ipython3",
   "version": "3.7.1"
  }
 },
 "nbformat": 4,
 "nbformat_minor": 2
}
